{
 "cells": [
  {
   "cell_type": "code",
   "execution_count": null,
   "metadata": {},
   "outputs": [],
   "source": [
    "import numpy as np\n",
    "import pandas as pd\n",
    "import cv2 as cv\n",
    "from matplotlib import pyplot as plt\n",
    "import seaborn as sns\n",
    "\n",
    "%matplotlib notebook\n",
    "np.set_printoptions(precision=3, suppress=True)\n",
    "pd.options.display.float_format = '{:.4f}'.format\n",
    "sns.set_theme()"
   ]
  },
  {
   "cell_type": "code",
   "execution_count": null,
   "metadata": {},
   "outputs": [],
   "source": [
    "from printline.strip import black_white_filter, text_vs_blank, make_text_spans"
   ]
  },
  {
   "cell_type": "code",
   "execution_count": null,
   "metadata": {},
   "outputs": [],
   "source": [
    "im = cv.imread('/home/iliab/proj/printline/simple.png', 0)\n",
    "bw = black_white_filter(im)\n",
    "strip = bw[200: 600, 150: 350]"
   ]
  },
  {
   "cell_type": "code",
   "execution_count": null,
   "metadata": {},
   "outputs": [],
   "source": [
    "fig, (ax1, ax2, ax3) = plt.subplots(1, 3, figsize=(9.5, 3.5))\n",
    "ax1.imshow(strip, cmap='gray')\n",
    "ax2.imshow(bw, cmap='gray')\n",
    "ax3.imshow(im, cmap='gray')"
   ]
  },
  {
   "cell_type": "code",
   "execution_count": null,
   "metadata": {},
   "outputs": [],
   "source": [
    "horizontal_whites = np.sum(strip, axis=1)\n",
    "other_horizontal = text_vs_blank(strip)\n",
    "threshold = 0.9 * np.max(horizontal_whites)"
   ]
  },
  {
   "cell_type": "code",
   "execution_count": null,
   "metadata": {},
   "outputs": [],
   "source": [
    "fig, (ax1, ax2) = plt.subplots(2, 1)\n",
    "\n",
    "ax1.plot(horizontal_whites, '.')\n",
    "ax1.plot(np.ones_like(horizontal_whites) * threshold)\n",
    "\n",
    "ax2.plot(other_horizontal, '-')"
   ]
  },
  {
   "cell_type": "code",
   "execution_count": null,
   "metadata": {},
   "outputs": [],
   "source": [
    "text_spans = list(make_text_spans(other_horizontal))\n",
    "text_spans"
   ]
  },
  {
   "cell_type": "code",
   "execution_count": null,
   "metadata": {},
   "outputs": [],
   "source": [
    "height, width = strip.shape\n",
    "out = cv.merge((strip, strip, strip))\n",
    "out *= 255\n",
    "out.shape"
   ]
  },
  {
   "cell_type": "code",
   "execution_count": null,
   "metadata": {},
   "outputs": [],
   "source": [
    "color = 255, 0, 0\n",
    "thickness = 1"
   ]
  },
  {
   "cell_type": "code",
   "execution_count": null,
   "metadata": {},
   "outputs": [],
   "source": [
    "for start, end in text_spans:\n",
    "    p1 = 5, start\n",
    "    p2 = width - 5, end\n",
    "    out = cv.rectangle(out, p1, p2, color, thickness)"
   ]
  },
  {
   "cell_type": "code",
   "execution_count": null,
   "metadata": {},
   "outputs": [],
   "source": [
    "fig, ax = plt.subplots()\n",
    "ax.imshow(out)"
   ]
  }
 ],
 "metadata": {
  "kernelspec": {
   "display_name": "Python 3 (ipykernel)",
   "language": "python",
   "name": "python3"
  },
  "language_info": {
   "codemirror_mode": {
    "name": "ipython",
    "version": 3
   },
   "file_extension": ".py",
   "mimetype": "text/x-python",
   "name": "python",
   "nbconvert_exporter": "python",
   "pygments_lexer": "ipython3",
   "version": "3.10.6"
  }
 },
 "nbformat": 4,
 "nbformat_minor": 5
}
