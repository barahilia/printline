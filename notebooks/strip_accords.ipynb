{
 "cells": [
  {
   "cell_type": "code",
   "execution_count": null,
   "metadata": {},
   "outputs": [],
   "source": [
    "import numpy as np\n",
    "import pandas as pd\n",
    "import cv2 as cv\n",
    "from matplotlib import pyplot as plt\n",
    "import seaborn as sns\n",
    "\n",
    "%matplotlib notebook\n",
    "np.set_printoptions(precision=3, suppress=True)\n",
    "pd.options.display.float_format = '{:.4f}'.format\n",
    "sns.set_theme()"
   ]
  },
  {
   "cell_type": "code",
   "execution_count": null,
   "metadata": {},
   "outputs": [],
   "source": [
    "from printline.strip import black_white_filter, make_text_spans, text_vs_blank\n",
    "from printline.builder import accords, comp_nearby_tuples"
   ]
  },
  {
   "cell_type": "code",
   "execution_count": null,
   "metadata": {},
   "outputs": [],
   "source": [
    "image = cv.imread('/home/iliab/proj/printline/simple.png', 0)\n",
    "image = black_white_filter(image)\n",
    "image = image[200: 600, 120: 620]\n",
    "height, width = image.shape"
   ]
  },
  {
   "cell_type": "code",
   "execution_count": null,
   "metadata": {},
   "outputs": [],
   "source": [
    "strip_width = 50\n",
    "\n",
    "vertical_strip_images = [\n",
    "    image[:, i: i + strip_width]\n",
    "    for i in range(0, width, strip_width)\n",
    "]"
   ]
  },
  {
   "cell_type": "code",
   "execution_count": null,
   "metadata": {},
   "outputs": [],
   "source": [
    "vertical_spans = [\n",
    "    list(make_text_spans(text_vs_blank(vertical_strip_image)))\n",
    "    for vertical_strip_image in vertical_strip_images\n",
    "]"
   ]
  },
  {
   "cell_type": "code",
   "execution_count": null,
   "metadata": {},
   "outputs": [],
   "source": [
    "horizontal_accords = accords(vertical_spans, comp=comp_nearby_tuples)"
   ]
  },
  {
   "cell_type": "code",
   "execution_count": null,
   "metadata": {},
   "outputs": [],
   "source": []
  },
  {
   "cell_type": "code",
   "execution_count": null,
   "metadata": {},
   "outputs": [],
   "source": [
    "out = cv.merge((image, image, image))\n",
    "out *= 255"
   ]
  },
  {
   "cell_type": "code",
   "execution_count": null,
   "metadata": {},
   "outputs": [],
   "source": [
    "color = 0, 255, 0\n",
    "thickness = 2\n",
    "\n",
    "for start, end in horizontal_accords:\n",
    "    p1 = 5, start\n",
    "    p2 = width - 5, end\n",
    "    out = cv.rectangle(out, p1, p2, color, thickness)"
   ]
  },
  {
   "cell_type": "code",
   "execution_count": null,
   "metadata": {},
   "outputs": [],
   "source": [
    "color = 255, 0, 0\n",
    "thickness = 1\n",
    "\n",
    "for i, vertical_span in enumerate(vertical_spans):\n",
    "    for start, end in vertical_span:\n",
    "        offset = strip_width * i\n",
    "        p1 = offset + 5, start\n",
    "        p2 = offset + strip_width - 5, end\n",
    "        out = cv.rectangle(out, p1, p2, color, thickness)"
   ]
  },
  {
   "cell_type": "code",
   "execution_count": null,
   "metadata": {},
   "outputs": [],
   "source": [
    "fig, ax = plt.subplots()\n",
    "ax.imshow(out)"
   ]
  }
 ],
 "metadata": {
  "kernelspec": {
   "display_name": "Python 3 (ipykernel)",
   "language": "python",
   "name": "python3"
  },
  "language_info": {
   "codemirror_mode": {
    "name": "ipython",
    "version": 3
   },
   "file_extension": ".py",
   "mimetype": "text/x-python",
   "name": "python",
   "nbconvert_exporter": "python",
   "pygments_lexer": "ipython3",
   "version": "3.10.6"
  }
 },
 "nbformat": 4,
 "nbformat_minor": 5
}
